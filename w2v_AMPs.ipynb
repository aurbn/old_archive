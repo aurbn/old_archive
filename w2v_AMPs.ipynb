{
 "cells": [
  {
   "cell_type": "code",
   "execution_count": 168,
   "metadata": {
    "collapsed": true
   },
   "outputs": [],
   "source": [
    "%matplotlib inline\n",
    "import matplotlib.pyplot as plt\n",
    "import gensim\n",
    "from Bio import SeqIO\n",
    "import numpy as np\n",
    "from numpy import linalg as LA\n",
    "from collections import UserDict\n",
    "from sklearn import preprocessing\n",
    "from functools import reduce\n",
    "from operator import add\n",
    "from sklearn.linear_model import LogisticRegression\n",
    "from sklearn.ensemble import RandomForestClassifier\n",
    "import pandas as pd\n",
    "from pepdata import amino_acid\n",
    "from sklearn.manifold import TSNE\n",
    "from random import choice\n",
    "from sklearn import model_selection\n",
    "from sklearn import svm\n",
    "from sklearn.metrics import precision_recall_fscore_support\n",
    "from glob import glob\n",
    "import itertools"
   ]
  },
  {
   "cell_type": "code",
   "execution_count": 2,
   "metadata": {
    "collapsed": true
   },
   "outputs": [],
   "source": [
    "def make_ngrams(seq, n, shift=True):\n",
    "    res = []\n",
    "    if shift:\n",
    "        for i in range(n):\n",
    "            res.append(list(map(''.join, (zip(*[iter(seq[i:])]*n)))))\n",
    "    else:\n",
    "        res.append(list(map(''.join, (zip(*[iter(seq)]*n)))))\n",
    "    \n",
    "    return res"
   ]
  },
  {
   "cell_type": "code",
   "execution_count": 3,
   "metadata": {
    "collapsed": true
   },
   "outputs": [],
   "source": [
    "def process_fasta(fname, n, shift=True):\n",
    "    res = []\n",
    "    fd = SeqIO.parse(fname, \"fasta\")\n",
    "    for r in fd:\n",
    "        res += make_ngrams(r, n, shift)\n",
    "    \n",
    "    return res"
   ]
  },
  {
   "cell_type": "code",
   "execution_count": 4,
   "metadata": {
    "collapsed": true
   },
   "outputs": [],
   "source": [
    "def read_embeddings(filename):\n",
    "    res = UserDict()\n",
    "    f = open(filename)\n",
    "    v_size, e_size = [int(i.strip()) for i in f.readline().split()]\n",
    "    for l in f.readlines():\n",
    "        l = l.split()\n",
    "        w = l[0]\n",
    "        v = np.array([float(i) for i in l[1:]])\n",
    "        res[w] = v\n",
    "    res.wsize = len(w)\n",
    "    return res"
   ]
  },
  {
   "cell_type": "code",
   "execution_count": 116,
   "metadata": {
    "collapsed": true
   },
   "outputs": [],
   "source": [
    "def make_pep_vector(sequence, emb, shift=True):\n",
    "    ngrams = make_ngrams(sequence, emb.wsize, shift=shift)\n",
    "    ngrams = reduce(add, ngrams)\n",
    "    ngrams = [ng for ng in ngrams if ng in emb.keys()]\n",
    "    res = sum([emb[n] for n in ngrams])\n",
    "    res = res/LA.norm(res)\n",
    "    return res"
   ]
  },
  {
   "cell_type": "code",
   "execution_count": 117,
   "metadata": {
    "collapsed": true
   },
   "outputs": [],
   "source": [
    "#ng, vec = zip(*[(x, y) for x, y in emb.items()])"
   ]
  },
  {
   "cell_type": "code",
   "execution_count": 118,
   "metadata": {
    "collapsed": true
   },
   "outputs": [],
   "source": [
    "def prop(x, method = amino_acid.hydropathy):\n",
    "    try:\n",
    "        return method(x)\n",
    "    except:\n",
    "        return 0"
   ]
  },
  {
   "cell_type": "code",
   "execution_count": 256,
   "metadata": {},
   "outputs": [],
   "source": [
    "def pepcls(peps1, peps2, emb, sne=True):\n",
    "    v1 = list(map(lambda s: make_pep_vector(s, emb), peps1))\n",
    "    v2 = list(map(lambda s: make_pep_vector(s, emb), peps2))\n",
    "    all_vec = v1+v2\n",
    "    truey = [0]*len(v1)+[1]*len(v2)\n",
    "    if sne:\n",
    "        tsne = TSNE(n_components=2)\n",
    "        tsne = tsne.fit_transform(all_vec)\n",
    "        plt.scatter(tsne[:, 0], tsne[:,1], c= truey, s=2)\n",
    "        plt.show()\n",
    "    \n",
    "    X_train, X_test, y_train, y_test = model_selection.train_test_split(all_vec, truey)\n",
    "    mod = RandomForestClassifier(n_estimators=1000)\n",
    "    \n",
    "    mod.fit(X_train, y_train)\n",
    "    print(\"Score: \", mod.score(X_test, y_test))\n",
    "    print(\"P_R_F: \", precision_recall_fscore_support(y_test, mod.predict(X_test),average=\"binary\"))\n",
    "    return mod"
   ]
  },
  {
   "cell_type": "markdown",
   "metadata": {},
   "source": [
    "## Actual processing ##"
   ]
  },
  {
   "cell_type": "code",
   "execution_count": 206,
   "metadata": {
    "collapsed": true
   },
   "outputs": [],
   "source": [
    "emb_o = read_embeddings(\"model_neg20_w3_1000it_hs0_sg1_w2v\")"
   ]
  },
  {
   "cell_type": "code",
   "execution_count": 207,
   "metadata": {
    "collapsed": true
   },
   "outputs": [],
   "source": [
    "#emb_o = read_embeddings(\"protVec_100d_3grams.csv\")"
   ]
  },
  {
   "cell_type": "code",
   "execution_count": 208,
   "metadata": {
    "collapsed": true
   },
   "outputs": [],
   "source": [
    "pos = [l.strip() for l in open(\"amps/Whole_pos_antiBP2.data\")]"
   ]
  },
  {
   "cell_type": "code",
   "execution_count": 209,
   "metadata": {},
   "outputs": [],
   "source": [
    "neg = [l.strip() for l in open(\"amps/Whole_neg_antiBP2.data\")]"
   ]
  },
  {
   "cell_type": "code",
   "execution_count": 210,
   "metadata": {},
   "outputs": [
    {
     "data": {
      "text/plain": [
       "(999, 999)"
      ]
     },
     "execution_count": 210,
     "metadata": {},
     "output_type": "execute_result"
    }
   ],
   "source": [
    "len(pos), len(neg)"
   ]
  },
  {
   "cell_type": "code",
   "execution_count": null,
   "metadata": {
    "collapsed": true
   },
   "outputs": [],
   "source": []
  },
  {
   "cell_type": "code",
   "execution_count": 257,
   "metadata": {},
   "outputs": [
    {
     "data": {
      "image/png": "[encoded data removed]",
      "text/plain": [
       "<matplotlib.figure.Figure at 0x7f8f9124afd0>"
      ]
     },
     "metadata": {},
     "output_type": "display_data"
    },
    {
     "name": "stdout",
     "output_type": "stream",
     "text": [
      "Score:  0.882\n",
      "P_R_F:  (0.8828125, 0.88627450980392153, 0.8845401174168297, None)\n"
     ]
    }
   ],
   "source": [
    "mod = pepcls(pos, neg, emb_o)"
   ]
  },
  {
   "cell_type": "code",
   "execution_count": 258,
   "metadata": {
    "collapsed": true
   },
   "outputs": [],
   "source": [
    "pep102 = [str(l.seq) for l in SeqIO.parse(\"amps/102_Bactria_peptides_validated_2017.08.31_short.txt\", \"fasta\")]"
   ]
  },
  {
   "cell_type": "code",
   "execution_count": 259,
   "metadata": {
    "collapsed": true
   },
   "outputs": [],
   "source": [
    "rnd4 = [l.strip() for l in open(\"amps/peps_rand4.txt\")]"
   ]
  },
  {
   "cell_type": "code",
   "execution_count": 260,
   "metadata": {
    "collapsed": true
   },
   "outputs": [],
   "source": [
    "pep102_v = [make_pep_vector(p, emb_o) for p in pep102]\n",
    "rnd4_v = [make_pep_vector(p, emb_o) for p in rnd4]\n"
   ]
  },
  {
   "cell_type": "code",
   "execution_count": 263,
   "metadata": {},
   "outputs": [
    {
     "data": {
      "text/plain": [
       "(array([ 0.301,  0.284,  0.42 ,  0.479,  0.335,  0.532,  0.407,  0.245,\n",
       "         0.374,  0.297,  0.153,  0.35 ,  0.62 ,  0.29 ,  0.373,  0.566,\n",
       "         0.523,  0.533,  0.513,  0.491,  0.654,  0.338,  0.459,  0.214,\n",
       "         0.413,  0.56 ,  0.301,  0.496,  0.279,  0.666,  0.393,  0.115,\n",
       "         0.584,  0.295,  0.432,  0.454,  0.423,  0.449,  0.295,  0.535,\n",
       "         0.542,  0.406,  0.476,  0.327,  0.584,  0.488,  0.473,  0.61 ,\n",
       "         0.364,  0.396,  0.246,  0.492,  0.544,  0.707,  0.312,  0.455,\n",
       "         0.519,  0.419,  0.334,  0.364,  0.353,  0.499,  0.355,  0.573,\n",
       "         0.427,  0.367,  0.549,  0.369,  0.402,  0.368,  0.454,  0.408,\n",
       "         0.469,  0.403,  0.339,  0.325,  0.412,  0.317,  0.383,  0.56 ,\n",
       "         0.447,  0.467,  0.194,  0.538,  0.626,  0.357,  0.513,  0.553,\n",
       "         0.274,  0.352,  0.31 ,  0.534,  0.602,  0.373,  0.435,  0.353,\n",
       "         0.435,  0.528,  0.421,  0.483,  0.408,  0.359]),\n",
       " array([ 0.485,  0.596,  0.473,  0.304,  0.386,  0.334,  0.224,  0.472,\n",
       "         0.436,  0.482,  0.518,  0.497,  0.598,  0.404,  0.436,  0.277,\n",
       "         0.36 ,  0.375,  0.635,  0.553,  0.184,  0.411,  0.503,  0.422,\n",
       "         0.598,  0.632,  0.402,  0.33 ,  0.158,  0.535,  0.719,  0.392,\n",
       "         0.466,  0.524,  0.401,  0.456,  0.474,  0.462,  0.313,  0.428,\n",
       "         0.588,  0.424,  0.354,  0.517,  0.409,  0.434,  0.435,  0.397,\n",
       "         0.299,  0.593,  0.3  ,  0.393,  0.359,  0.53 ,  0.578,  0.435,\n",
       "         0.523,  0.271,  0.355,  0.3  ,  0.461,  0.522,  0.716,  0.423,\n",
       "         0.717,  0.481,  0.525,  0.422,  0.438,  0.314,  0.483,  0.524,\n",
       "         0.337,  0.286,  0.395,  0.429,  0.488,  0.521,  0.556,  0.418,\n",
       "         0.442,  0.37 ,  0.606,  0.186,  0.44 ,  0.31 ,  0.288,  0.323,\n",
       "         0.354,  0.316,  0.286,  0.377,  0.49 ,  0.267,  0.273,  0.394,\n",
       "         0.749,  0.174,  0.558,  0.5  ,  0.511,  0.238]),\n",
       " 7,\n",
       " 7)"
      ]
     },
     "execution_count": 263,
     "metadata": {},
     "output_type": "execute_result"
    }
   ],
   "source": [
    "mod.predict_proba(pep102_v)[:,0], mod.predict_proba(rnd4_v)[:,0], \\\n",
    "sum(mod.predict_proba(pep102_v)[:,0]>0.6), sum(mod.predict_proba(rnd4_v)[:,0]>0.6)"
   ]
  },
  {
   "cell_type": "code",
   "execution_count": 271,
   "metadata": {},
   "outputs": [
    {
     "data": {
      "text/plain": [
       "(array([ 0.896,  0.959,  0.887,  0.921,  0.86 ,  0.947,  0.862,  0.603,\n",
       "         0.765,  0.594,  0.912,  0.899,  0.782,  0.818,  0.543,  0.657,\n",
       "         0.693,  0.919,  0.957,  0.914,  0.762,  0.965,  0.974,  0.808,\n",
       "         0.912,  0.801,  0.724,  0.659,  0.944,  0.613,  0.949,  0.954,\n",
       "         0.805,  0.785,  0.953,  0.943,  0.747,  0.427,  0.841,  0.94 ,\n",
       "         0.909,  0.93 ,  0.786,  0.832,  0.964,  0.92 ,  0.282,  0.891,\n",
       "         0.937,  0.797,  0.906,  0.817,  0.985,  0.891,  0.839,  0.675,\n",
       "         0.953,  0.925,  0.962,  0.912,  0.935,  0.808,  0.934,  0.85 ,\n",
       "         0.971,  0.96 ,  0.872,  0.627,  0.986,  0.88 ,  0.872,  0.939,\n",
       "         0.974,  0.905,  0.728,  0.955,  0.949,  0.739,  0.946,  0.795,\n",
       "         0.881,  0.889,  0.941,  0.904,  0.957,  0.84 ,  0.7  ,  0.953,\n",
       "         0.92 ,  0.923,  0.883,  0.924,  0.952,  0.843,  0.472,  0.975,\n",
       "         0.952,  0.842,  0.922,  0.953,  0.909,  0.778]),\n",
       " array([ 0.172,  0.33 ,  0.133,  0.077,  0.136,  0.094,  0.027,  0.179,\n",
       "         0.449,  0.032,  0.094,  0.1  ,  0.236,  0.125,  0.098,  0.146,\n",
       "         0.058,  0.042,  0.228,  0.131,  0.13 ,  0.137,  0.109,  0.091,\n",
       "         0.424,  0.074,  0.304,  0.148,  0.129,  0.116,  0.067,  0.398,\n",
       "         0.081,  0.19 ,  0.135,  0.158,  0.399,  0.098,  0.191,  0.105,\n",
       "         0.081,  0.12 ,  0.072,  0.027,  0.399,  0.139,  0.105,  0.12 ,\n",
       "         0.244,  0.181,  0.178,  0.376,  0.227,  0.106,  0.112,  0.159,\n",
       "         0.167,  0.257,  0.227,  0.171,  0.186,  0.015,  0.602,  0.035,\n",
       "         0.068,  0.065,  0.103,  0.118,  0.181,  0.449,  0.094,  0.11 ,\n",
       "         0.365,  0.236,  0.199,  0.186,  0.128,  0.149,  0.035,  0.09 ,\n",
       "         0.028,  0.124,  0.042,  0.03 ,  0.161,  0.153,  0.027,  0.128,\n",
       "         0.09 ,  0.112,  0.161,  0.09 ,  0.109,  0.12 ,  0.133,  0.122,\n",
       "         0.146,  0.121,  0.228,  0.114,  0.078,  0.064]),\n",
       " 97,\n",
       " 1)"
      ]
     },
     "execution_count": 271,
     "metadata": {},
     "output_type": "execute_result"
    }
   ],
   "source": [
    "spos = [choice(pos) for x in range(102)]\n",
    "sneg = [choice(neg) for x in range(102)]\n",
    "spos_v = [make_pep_vector(p, emb_o) for p in spos]\n",
    "sneg_v = [make_pep_vector(p, emb_o) for p in sneg]\n",
    "mod.predict_proba(spos_v)[:,0], mod.predict_proba(sneg_v)[:,0], \\\n",
    "sum(mod.predict_proba(spos_v)[:,0]>0.6), sum(mod.predict_proba(sneg_v)[:,0]>0.6)"
   ]
  },
  {
   "cell_type": "code",
   "execution_count": 278,
   "metadata": {},
   "outputs": [
    {
     "data": {
      "text/plain": [
       "{'Peptide_024': 'GVGEDISDGGNAISGAATK',\n",
       " 'Peptide_031': 'KNEVKAKNIDILE',\n",
       " 'Peptide_034': 'ILLINPTDSDAVGNAVK',\n",
       " 'Peptide_035': 'AIAQVGTISANSDETVGK',\n",
       " 'Peptide_038': 'VGEEVEIVGIK',\n",
       " 'Peptide_039': 'VGLTALTMAEYFR',\n",
       " 'Peptide_044': 'ANILPVIGTPHV',\n",
       " 'Peptide_054': 'TLKEVGATVILLS',\n",
       " 'Peptide_059': 'DAIKQVIDKFGE',\n",
       " 'Peptide_065': 'RIAIIMAAIGL',\n",
       " 'Peptide_080': 'NGVCLTVTDLGED',\n",
       " 'Peptide_081': 'VIELQGIAGTSAAR',\n",
       " 'Peptide_091': 'MQLSNLYIVPM',\n",
       " 'Peptide_096': 'VTAIGIGIAID',\n",
       " 'Peptide_108': 'KVGTYSTFTLLD',\n",
       " 'Peptide_109': 'PLTVICNGKAH',\n",
       " 'Peptide_112': 'ITTLWMPEV',\n",
       " 'Peptide_120': 'HDKMEIVLVD',\n",
       " 'Peptide_126': 'PITGPYVIVGH',\n",
       " 'Peptide_153': 'TNIKINPLIINS',\n",
       " 'Peptide_161': 'TLMIDKMPV',\n",
       " 'Peptide_164': 'PITVIDTKNIG',\n",
       " 'Peptide_214': 'IEEVKQGILNEEL',\n",
       " 'Peptide_216': 'PVEYMKVL',\n",
       " 'Peptide_227': 'LSALVAGLIDA',\n",
       " 'Peptide_228': 'PAGVYTVKYKF',\n",
       " 'Peptide_245': 'VTASVAGGEKEAKEIL'}"
      ]
     },
     "execution_count": 278,
     "metadata": {},
     "output_type": "execute_result"
    }
   ],
   "source": [
    "ok102 = list(itertools.compress(pep102, mod.predict_proba([make_pep_vector(p, emb_o) for p in pep102])[:,0]>0.5))\n",
    "\n",
    "name_map = {str(r.seq):str(r.name) for r in SeqIO.parse(\"amps/102_Bactria_peptides_validated_2017.08.31_cp.fasta\", \"fasta\")}\n",
    "\n",
    "{name_map[s] : s for s in ok102}"
   ]
  },
  {
   "cell_type": "code",
   "execution_count": null,
   "metadata": {
    "collapsed": true
   },
   "outputs": [],
   "source": []
  }
 ],
 "metadata": {
  "kernelspec": {
   "display_name": "Python 3",
   "language": "python",
   "name": "python3"
  },
  "language_info": {
   "codemirror_mode": {
    "name": "ipython",
    "version": 3
   },
   "file_extension": ".py",
   "mimetype": "text/x-python",
   "name": "python",
   "nbconvert_exporter": "python",
   "pygments_lexer": "ipython3",
   "version": "3.4.3"
  },
  "toc": {
   "nav_menu": {},
   "number_sections": true,
   "sideBar": true,
   "skip_h1_title": false,
   "toc_cell": false,
   "toc_position": {},
   "toc_section_display": "block",
   "toc_window_display": false
  },
  "varInspector": {
   "cols": {
    "lenName": 16,
    "lenType": 16,
    "lenVar": 40
   },
   "kernels_config": {
    "python": {
     "delete_cmd_postfix": "",
     "delete_cmd_prefix": "del ",
     "library": "var_list.py",
     "varRefreshCmd": "print(var_dic_list())"
    },
    "r": {
     "delete_cmd_postfix": ") ",
     "delete_cmd_prefix": "rm(",
     "library": "var_list.r",
     "varRefreshCmd": "cat(var_dic_list()) "
    }
   },
   "types_to_exclude": [
    "module",
    "function",
    "builtin_function_or_method",
    "instance",
    "_Feature"
   ],
   "window_display": false
  }
 },
 "nbformat": 4,
 "nbformat_minor": 2
}
