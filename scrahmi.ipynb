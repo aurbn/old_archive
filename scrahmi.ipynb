{
 "cells": [
  {
   "cell_type": "code",
   "execution_count": 1,
   "metadata": {},
   "outputs": [],
   "source": [
    "import requests\n",
    "from IPython.display import HTML\n",
    "from tqdm import tqdm_notebook as tqdm\n",
    "import xml.etree.ElementTree as ET\n",
    "from io import StringIO\n",
    "import os\n",
    "from time import sleep"
   ]
  },
  {
   "cell_type": "code",
   "execution_count": 2,
   "metadata": {},
   "outputs": [],
   "source": [
    "url = \"http://www.mahmi.org/results.php\"\n",
    "url0 = \"http://www.mahmi.org/doSearch.php\""
   ]
  },
  {
   "cell_type": "code",
   "execution_count": 3,
   "metadata": {},
   "outputs": [],
   "source": [
    "tabheaders = ['description',\n",
    " 'sequence',\n",
    " 'score',\n",
    " 'eValue',\n",
    " 'identities',\n",
    " 'positives',\n",
    " 'gaps',\n",
    " 'length',\n",
    " 'mW',\n",
    " 'pI',\n",
    " 'query',\n",
    " 'comparison',\n",
    " 'subject',\n",
    "# 'path',\n",
    " 'queryStart',\n",
    " 'queryEnd',\n",
    " 'subjectStart',\n",
    " 'subjectEnd']"
   ]
  },
  {
   "cell_type": "code",
   "execution_count": 4,
   "metadata": {},
   "outputs": [],
   "source": [
    "outdir = \"pepout\"\n",
    "\n",
    "if not os.path.exists(outdir):\n",
    "    os.mkdir(outdir)"
   ]
  },
  {
   "cell_type": "code",
   "execution_count": 5,
   "metadata": {},
   "outputs": [],
   "source": [
    "peps = list(map(lambda x: x.strip(), open(\"peps737.txt\").readlines()))\n",
    "headers = {\n",
    "    'Accept': '*/*',\n",
    "    'Content-type': 'text/xml',\n",
    "}\n",
    "data_templ = data = open('mahmi_xml.txt').read()"
   ]
  },
  {
   "cell_type": "code",
   "execution_count": 7,
   "metadata": {},
   "outputs": [],
   "source": [
    "peps = peps[550:]"
   ]
  },
  {
   "cell_type": "code",
   "execution_count": 8,
   "metadata": {},
   "outputs": [
    {
     "data": {
      "application/vnd.jupyter.widget-view+json": {
       "model_id": "2366946250eb442e933422498e8bcd2e",
       "version_major": 2,
       "version_minor": 0
      },
      "text/html": [
       "<p>Failed to display Jupyter Widget of type <code>HBox</code>.</p>\n",
       "<p>\n",
       "  If you're reading this message in Jupyter Notebook or JupyterLab, it may mean\n",
       "  that the widgets JavaScript is still loading. If this message persists, it\n",
       "  likely means that the widgets JavaScript library is either not installed or\n",
       "  not enabled. See the <a href=\"https://ipywidgets.readthedocs.io/en/stable/user_install.html\">Jupyter\n",
       "  Widgets Documentation</a> for setup instructions.\n",
       "</p>\n",
       "<p>\n",
       "  If you're reading this message in another notebook frontend (for example, a static\n",
       "  rendering on GitHub or <a href=\"https://nbviewer.jupyter.org/\">NBViewer</a>),\n",
       "  it may mean that your frontend doesn't currently support widgets.\n",
       "</p>\n"
      ],
      "text/plain": [
       "HBox(children=(IntProgress(value=0, max=187), HTML(value='')))"
      ]
     },
     "metadata": {},
     "output_type": "display_data"
    },
    {
     "name": "stdout",
     "output_type": "stream",
     "text": [
      "\n",
      "\n"
     ]
    }
   ],
   "source": [
    "for p in tqdm(peps):\n",
    "    sleep(10)\n",
    "    data = data_templ.format(sequence=p)\n",
    "    r = requests.post('http://mahmi.org/api/peptides/search', headers=headers, data=data)\n",
    "    tree = ET.parse(StringIO(r.text))\n",
    "    if tree.findall(\"blastAlignment\"):\n",
    "        with open(os.path.join(outdir, p+\".txt\"), \"w\") as fo:\n",
    "            fo.write(\"\\t\".join(tabheaders)+\"\\n\")\n",
    "\n",
    "            for it in tree.findall(\"blastAlignment\"):\n",
    "                el = {t.tag:t.text for t in it.getchildren()}\n",
    "                fo.write(\"\\t\".join(map(lambda x: el[x], tabheaders))+\"\\n\")"
   ]
  },
  {
   "cell_type": "code",
   "execution_count": null,
   "metadata": {},
   "outputs": [],
   "source": []
  }
 ],
 "metadata": {
  "kernelspec": {
   "display_name": "Python 3",
   "language": "python",
   "name": "python3"
  },
  "language_info": {
   "codemirror_mode": {
    "name": "ipython",
    "version": 3
   },
   "file_extension": ".py",
   "mimetype": "text/x-python",
   "name": "python",
   "nbconvert_exporter": "python",
   "pygments_lexer": "ipython3",
   "version": "3.4.3"
  },
  "toc": {
   "nav_menu": {},
   "number_sections": true,
   "sideBar": true,
   "skip_h1_title": false,
   "toc_cell": false,
   "toc_position": {},
   "toc_section_display": "block",
   "toc_window_display": false
  },
  "varInspector": {
   "cols": {
    "lenName": 16,
    "lenType": 16,
    "lenVar": 40
   },
   "kernels_config": {
    "python": {
     "delete_cmd_postfix": "",
     "delete_cmd_prefix": "del ",
     "library": "var_list.py",
     "varRefreshCmd": "print(var_dic_list())"
    },
    "r": {
     "delete_cmd_postfix": ") ",
     "delete_cmd_prefix": "rm(",
     "library": "var_list.r",
     "varRefreshCmd": "cat(var_dic_list()) "
    }
   },
   "types_to_exclude": [
    "module",
    "function",
    "builtin_function_or_method",
    "instance",
    "_Feature"
   ],
   "window_display": false
  }
 },
 "nbformat": 4,
 "nbformat_minor": 2
}
